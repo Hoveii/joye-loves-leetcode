{
 "cells": [
  {
   "cell_type": "code",
   "execution_count": null,
   "metadata": {},
   "outputs": [],
   "source": [
    "from typing import List\n",
    "\n",
    "class Solution:\n",
    "    def subsets(self, nums: List[int]) -> List[List[int]]:\n",
    "        size = len(nums)\n",
    "        n = 1 << size\n",
    "        res = []\n",
    "        for i in range(n):\n",
    "            cur = []\n",
    "            for j in range(size):\n",
    "                if i >> j & 1:\n",
    "                    cur.append(nums[j])\n",
    "            res.append(cur)\n",
    "        return res"
   ]
  },
  {
   "cell_type": "code",
   "execution_count": 11,
   "metadata": {},
   "outputs": [
    {
     "name": "stdout",
     "output_type": "stream",
     "text": [
      "************\n",
      "i:0 j:0\n",
      "i>>j:0\n",
      "0\n",
      "************\n",
      "i:0 j:1\n",
      "i>>j:0\n",
      "0\n",
      "************\n",
      "i:0 j:2\n",
      "i>>j:0\n",
      "0\n",
      "[[]]\n",
      "************\n",
      "i:1 j:0\n",
      "i>>j:1\n",
      "1\n",
      "************\n",
      "i:1 j:1\n",
      "i>>j:0\n",
      "0\n",
      "************\n",
      "i:1 j:2\n",
      "i>>j:0\n",
      "0\n",
      "[[], [1]]\n",
      "************\n",
      "i:2 j:0\n",
      "i>>j:2\n",
      "0\n",
      "************\n",
      "i:2 j:1\n",
      "i>>j:1\n",
      "1\n",
      "************\n",
      "i:2 j:2\n",
      "i>>j:0\n",
      "0\n",
      "[[], [1], [2]]\n",
      "************\n",
      "i:3 j:0\n",
      "i>>j:3\n",
      "1\n",
      "************\n",
      "i:3 j:1\n",
      "i>>j:1\n",
      "1\n",
      "************\n",
      "i:3 j:2\n",
      "i>>j:0\n",
      "0\n",
      "[[], [1], [2], [1, 2]]\n",
      "************\n",
      "i:4 j:0\n",
      "i>>j:4\n",
      "0\n",
      "************\n",
      "i:4 j:1\n",
      "i>>j:2\n",
      "0\n",
      "************\n",
      "i:4 j:2\n",
      "i>>j:1\n",
      "1\n",
      "[[], [1], [2], [1, 2], [3]]\n",
      "************\n",
      "i:5 j:0\n",
      "i>>j:5\n",
      "1\n",
      "************\n",
      "i:5 j:1\n",
      "i>>j:2\n",
      "0\n",
      "************\n",
      "i:5 j:2\n",
      "i>>j:1\n",
      "1\n",
      "[[], [1], [2], [1, 2], [3], [1, 3]]\n",
      "************\n",
      "i:6 j:0\n",
      "i>>j:6\n",
      "0\n",
      "************\n",
      "i:6 j:1\n",
      "i>>j:3\n",
      "1\n",
      "************\n",
      "i:6 j:2\n",
      "i>>j:1\n",
      "1\n",
      "[[], [1], [2], [1, 2], [3], [1, 3], [2, 3]]\n",
      "************\n",
      "i:7 j:0\n",
      "i>>j:7\n",
      "1\n",
      "************\n",
      "i:7 j:1\n",
      "i>>j:3\n",
      "1\n",
      "************\n",
      "i:7 j:2\n",
      "i>>j:1\n",
      "1\n",
      "[[], [1], [2], [1, 2], [3], [1, 3], [2, 3], [1, 2, 3]]\n"
     ]
    }
   ],
   "source": [
    "nums = [1,2,3]\n",
    "size = len(nums)\n",
    "n = 1 << size\n",
    "res = []\n",
    "for i in range(n):\n",
    "    cur = []\n",
    "    for j in range(size):\n",
    "        print(\"************\")\n",
    "        print(f\"i:{i}\",f\"j:{j}\")\n",
    "        print(f\"i>>j:{i>>j}\")\n",
    "        print(i>>j & 1)\n",
    "       \n",
    "        if i >> j & 1:\n",
    "            \n",
    "            cur.append(nums[j])\n",
    "\n",
    "    res.append(cur)\n",
    "    print(res)\n"
   ]
  },
  {
   "cell_type": "code",
   "execution_count": 6,
   "metadata": {},
   "outputs": [
    {
     "data": {
      "text/plain": [
       "[[], [1], [2], [1, 2], [3], [1, 3], [2, 3], [1, 2, 3]]"
      ]
     },
     "execution_count": 6,
     "metadata": {},
     "output_type": "execute_result"
    }
   ],
   "source": [
    "res"
   ]
  },
  {
   "cell_type": "code",
   "execution_count": 27,
   "metadata": {},
   "outputs": [],
   "source": [
    "n = len(nums)\n",
    "m = 1<<n\n",
    "subset = [[],nums]\n",
    "for i in range(1,m-1):\n",
    "    temp = []\n",
    "    for j in range(n):\n",
    "        if i>>j & 1:\n",
    "            temp.append(nums[j])\n",
    "    subset.append(temp)\n"
   ]
  },
  {
   "cell_type": "code",
   "execution_count": 28,
   "metadata": {},
   "outputs": [
    {
     "data": {
      "text/plain": [
       "[[], [1, 2, 3], [1], [2], [1, 2], [3], [1, 3], [2, 3]]"
      ]
     },
     "execution_count": 28,
     "metadata": {},
     "output_type": "execute_result"
    }
   ],
   "source": [
    "subset"
   ]
  },
  {
   "cell_type": "code",
   "execution_count": 23,
   "metadata": {},
   "outputs": [
    {
     "data": {
      "text/plain": [
       "'0b10000'"
      ]
     },
     "execution_count": 23,
     "metadata": {},
     "output_type": "execute_result"
    }
   ],
   "source": [
    "bin(16)"
   ]
  },
  {
   "cell_type": "code",
   "execution_count": 25,
   "metadata": {},
   "outputs": [
    {
     "data": {
      "text/plain": [
       "'111'"
      ]
     },
     "execution_count": 25,
     "metadata": {},
     "output_type": "execute_result"
    }
   ],
   "source": [
    "format(7,\"b\")"
   ]
  },
  {
   "cell_type": "code",
   "execution_count": 15,
   "metadata": {},
   "outputs": [
    {
     "data": {
      "text/plain": [
       "8"
      ]
     },
     "execution_count": 15,
     "metadata": {},
     "output_type": "execute_result"
    }
   ],
   "source": [
    "1<<n"
   ]
  },
  {
   "cell_type": "code",
   "execution_count": null,
   "metadata": {},
   "outputs": [],
   "source": []
  }
 ],
 "metadata": {
  "interpreter": {
   "hash": "762306bead03dc84e16aee56f31f40b1a0c18d71c74386c9334f6620b6a3216a"
  },
  "kernelspec": {
   "display_name": "Python 3.7.1 ('base')",
   "language": "python",
   "name": "python3"
  },
  "language_info": {
   "codemirror_mode": {
    "name": "ipython",
    "version": 3
   },
   "file_extension": ".py",
   "mimetype": "text/x-python",
   "name": "python",
   "nbconvert_exporter": "python",
   "pygments_lexer": "ipython3",
   "version": "3.7.1"
  },
  "orig_nbformat": 4
 },
 "nbformat": 4,
 "nbformat_minor": 2
}
