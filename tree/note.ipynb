{
 "cells": [
  {
   "cell_type": "markdown",
   "metadata": {},
   "source": [
    "# 树的定义与相关概念\n",
    "00:00 ~ 18:16\n",
    "\n",
    "1. 链表与树\n",
    "\n",
    "树是对链表升级后得到的结构\n",
    "\n",
    "单链表：一个数据域+一个指针域\n",
    "树：一个数据域+多个指针域\n",
    "\n",
    "2. 图与树\n",
    "\n",
    "树是符合图的定义的，但不是所有的树\n",
    "\n",
    "- 不能存在环路\n",
    "- 连通图：任意两个节点存在\n",
    "\n",
    "3. 树的相关概念\n",
    " - 根节点\n",
    " - 节点的度\n",
    " - 叶子节点\n",
    " - 父子节点\n",
    " - 兄弟节点\n",
    " - 节点层次\n",
    " - 节点的深度\n",
    " - 树的深度\n",
    " - 节点高度\n",
    " - 有序树\n",
    " - 无序树\n",
    "\n",
    "4. 简单又独特的树 - 二叉树\n",
    "\n",
    "   - 定义：二叉树是一个钟每个节点度都不大于2的树\n",
    "   - 特殊的二叉树\n",
    "      - 满二叉树：所有叶子节点全部在最底层，且所有非叶子节点度都是2的树。\n",
    "         记满二叉树T高度\n",
    "      - 完全二叉树： \n",
    "         完全二叉树的叶子及诶但只可能存在于最下面的两层中，且最下层的叶子节点全部是靠左紧密排列的\n",
    "\n",
    "      - 二叉搜索树\n",
    "\n",
    "         二叉搜索树要么是空树，要么同时满足以下条件：\n",
    "            \n",
    "      - 平衡二叉树： 如果二叉树中每个节点的左右子树高度差都不大于1，则这颗二叉树就是平衡二叉树\n",
    "\n",
    "         平衡二叉树经典的应用场景就是与二叉搜索树结合，形成平衡二叉搜索树。在构建二叉搜索树的同时借助调整策略是每个节点的左右子树高度差都不大于1，保证二叉搜索树中每个节点的左右子树都规模相当，整个树看起来更加匀称。\n",
    "         \n"
   ]
  },
  {
   "cell_type": "markdown",
   "metadata": {},
   "source": [
    "# 树的基本操作\n",
    "\n",
    "1. 树的储存结构\n",
    "    - 顺序存储结构\n",
    "        - 父子节点表示法\n",
    "        - 父节点表示法\n",
    "        - 子节点表示法\n",
    "    - 链式存储结构\n",
    "2. 树的增删改查（查查查查）：大部分增删改都依赖查\n",
    "    - 查找/搜索/遍历是树的核心操作\n",
    "    \n",
    "            遍历：按照某种规则“访问”树中的每个节点，保证每个节点都会被“访问”到且每个节点只会被“访问”一次\n",
    "            “访问”：程序与某个\n",
    "      \n",
    "    <br>\n",
    "\n",
    "    - 二叉树的深度优先搜索（DFS）: 二叉树的深度优先搜索，在“进入”节点时有以下约定俗成的要求\n",
    "        \n",
    "        - 必须以根节点为搜索起始点并进入\n",
    "        - 优先“进入”当前节点的左节点，其次“进入”当前节点的右子节点\n",
    "        - 如果当前节点为空节点或者左右节点都被进入过，则再次“进入”父节点\n",
    "        \n",
    "    - 二叉树的广度优先搜索（BFS）: "
   ]
  },
  {
   "cell_type": "code",
   "execution_count": null,
   "metadata": {},
   "outputs": [],
   "source": [
    "from typing import Optional\n",
    "class TreeNode:\n",
    "    def __init__(self, val=0, left=None, right=None):\n",
    "        self.val = val\n",
    "        self.left = left\n",
    "        self.right = right\n",
    "\n",
    "def dfs(root: Optional[TreeNode]):\n",
    "    if not root: \n",
    "        return \n",
    "    dfs(root.left)\n",
    "    dfs(root.right)\n",
    "    return \n",
    "\n",
    "def bfs(root: Optional[TreeNode]):\n",
    "    q = [] #队列\n",
    "    q.append(root) #队列初始化\n",
    "    while len(q) and q[0]:\n",
    "        cur = q.pop(0)\n",
    "        if cur.left:\n",
    "            q.append(cur.left)\n",
    "        if cur.right:\n",
    "            q.append(cur.right)\n",
    "    return "
   ]
  },
  {
   "cell_type": "markdown",
   "metadata": {},
   "source": [
    "# 作业\n",
    "## 1. 二叉树的最大深度"
   ]
  },
  {
   "cell_type": "code",
   "execution_count": null,
   "metadata": {},
   "outputs": [],
   "source": [
    "# Definition for a binary tree node.\n",
    "# class TreeNode:\n",
    "#     def __init__(self, val=0, left=None, right=None):\n",
    "#         self.val = val\n",
    "#         self.left = left\n",
    "#         self.right = right\n",
    "class Solution:\n",
    "    def maxDepth(self, root: Optional[TreeNode]) -> int:\n",
    "\n",
    "        if not root:\n",
    "            return 0\n",
    "        else:\n",
    "            i = 1\n",
    "            left_i = self.maxDepth(root.left)\n",
    "            right_i = self.maxDepth(root.right)\n",
    "\n",
    "        return i+max(left_i,right_i)\n",
    "                    "
   ]
  },
  {
   "cell_type": "markdown",
   "metadata": {},
   "source": [
    "\n",
    "- Time 56ms <-> 5.89\n",
    "- 内存 17.4mb <-> 9.27"
   ]
  },
  {
   "cell_type": "code",
   "execution_count": null,
   "metadata": {},
   "outputs": [],
   "source": [
    "#深度优先 先序遍历\n",
    "class SolutionDFS:\n",
    "    def dfs(self, root: Optional[TreeNode], temp: int):\n",
    "        if not root:\n",
    "            self.ans = max(self.ans, temp)\n",
    "            return \n",
    "        temp = temp+1\n",
    "        self.dfs(root.left, temp)\n",
    "        self.dfs(root.right, temp)\n",
    "        return\n",
    "\n",
    "    def maxDepth(self, root: Optional[TreeNode]) -> int:\n",
    "        self.ans = 0\n",
    "        temp = 0\n",
    "        self.dfs(root,temp)\n",
    "        return  self.ans\n"
   ]
  },
  {
   "cell_type": "code",
   "execution_count": null,
   "metadata": {},
   "outputs": [],
   "source": [
    "#深度优先 先序遍历\n",
    "class SolutionDFS:\n",
    "    def dfs(self, root: Optional[TreeNode], temp: int):\n",
    "        if not root:\n",
    "            self.ans = max(self.ans, temp)\n",
    "            return \n",
    "        temp = temp+1\n",
    "        self.dfs(root.left, temp)\n",
    "        self.dfs(root.right, temp)\n",
    "        return\n",
    "\n",
    "    def maxDepth(self, root: Optional[TreeNode]) -> int:\n",
    "        self.ans = 0\n",
    "        temp = 0\n",
    "        self.dfs(root,temp)\n",
    "        return  self.ans"
   ]
  },
  {
   "cell_type": "markdown",
   "metadata": {},
   "source": [
    "## 将有序数组转换为二叉搜索树"
   ]
  },
  {
   "cell_type": "code",
   "execution_count": 190,
   "metadata": {},
   "outputs": [],
   "source": [
    "# Definition for a binary tree node.\n",
    "from typing import List\n",
    "class TreeNode:\n",
    "    def __init__(self, val=0, left=None, right=None):\n",
    "        self.val = val\n",
    "        self.left = left\n",
    "        self.right = right\n",
    "    def print(self):\n",
    "        if not self:\n",
    "            return \n",
    "        if self:\n",
    "            print(self.val)\n",
    "            if self.left and self.right:\n",
    "                self.left.print(), self.right.print() \n",
    "       \n",
    "                # print(self.left.val,self.right.val)\n",
    "            elif self.left:\n",
    "                self.left.print()\n",
    "                # print(self.left.val)\n",
    "            elif self.right:\n",
    "                self.right.print()\n",
    "                # print(self.right.val)\n",
    "        \n",
    "\n",
    "            \n",
    "class Solution:\n",
    "    def sortedArrayToBST(self, nums: List[int]) -> TreeNode:\n",
    "        def SubBST(nums):\n",
    "            n = len(nums)\n",
    "            if n==0:\n",
    "                return None\n",
    "            if n>0:\n",
    "                m = int(n/2)\n",
    "                i = m-1\n",
    "                j = m+1\n",
    "                root = TreeNode(val=nums[m])\n",
    "                if i>=0:\n",
    "                    root.left = SubBST(nums[:i+1])\n",
    "                if j<=n:\n",
    "                    root.right = SubBST(nums[j:])\n",
    "                return root\n",
    "\n",
    "        return SubBST(nums)\n",
    "\n",
    "\n",
    "    "
   ]
  },
  {
   "cell_type": "code",
   "execution_count": 203,
   "metadata": {},
   "outputs": [],
   "source": [
    "nums =  [5,4,8,11,None,13,4,7,2,None,None,None,1]"
   ]
  },
  {
   "cell_type": "code",
   "execution_count": 204,
   "metadata": {},
   "outputs": [
    {
     "data": {
      "text/plain": [
       "20"
      ]
     },
     "execution_count": 204,
     "metadata": {},
     "output_type": "execute_result"
    }
   ],
   "source": [
    "res.val"
   ]
  },
  {
   "cell_type": "code",
   "execution_count": 205,
   "metadata": {},
   "outputs": [],
   "source": [
    "res =Solution().sortedArrayToBST(nums)"
   ]
  },
  {
   "cell_type": "code",
   "execution_count": 206,
   "metadata": {},
   "outputs": [
    {
     "name": "stdout",
     "output_type": "stream",
     "text": [
      "4\n",
      "11\n",
      "4\n",
      "5\n",
      "8\n",
      "13\n",
      "None\n",
      "None\n",
      "2\n",
      "7\n",
      "None\n",
      "1\n",
      "None\n"
     ]
    }
   ],
   "source": [
    "res.print()"
   ]
  },
  {
   "cell_type": "code",
   "execution_count": null,
   "metadata": {},
   "outputs": [],
   "source": [
    "## 1. 二叉树的最小深度"
   ]
  },
  {
   "cell_type": "code",
   "execution_count": 163,
   "metadata": {},
   "outputs": [],
   "source": [
    "# Definition for a binary tree node.\n",
    "# class TreeNode:\n",
    "#     def __init__(self, val=0, left=None, right=None):\n",
    "#         self.val = val\n",
    "#         self.left = left\n",
    "#         self.right = right\n",
    "class Solution:\n",
    "    def minDepth(self, root: TreeNode) -> int:\n",
    "        if not root:\n",
    "            return 0\n",
    "        else:\n",
    "            i = 1\n",
    "            left_i = self.minDepth(root.left)\n",
    "            right_i = self.minDepth(root.right)\n",
    "\n",
    "        if left_i>0 and right_i>0:\n",
    "            \n",
    "            return i+min(left_i,right_i)\n",
    "        elif left_i>0:\n",
    "            return i +left_i\n",
    "        elif right_i>0:\n",
    "            return i + right_i\n",
    "        else:\n",
    "            return i\n",
    "                    "
   ]
  },
  {
   "cell_type": "code",
   "execution_count": null,
   "metadata": {},
   "outputs": [],
   "source": []
  },
  {
   "cell_type": "markdown",
   "metadata": {},
   "source": [
    "## 路径总和"
   ]
  },
  {
   "cell_type": "code",
   "execution_count": null,
   "metadata": {},
   "outputs": [],
   "source": [
    "# Definition for a binary tree node.\n",
    "\n",
    "from typing import bool\n",
    "class TreeNode:\n",
    "    def __init__(self, val=0, left=None, right=None):\n",
    "        self.val = val\n",
    "        self.left = left\n",
    "        self.right = right\n",
    "\n",
    "class Solution:\n",
    "    def hasPathSum(self, root: Optional[TreeNode], targetSum: int) -> bool:\n",
    "        if not root:\n",
    "            return False\n",
    "        else:\n",
    "            if dfs(root,0)== targetSum:\n",
    "                    return True\n"
   ]
  },
  {
   "cell_type": "code",
   "execution_count": 200,
   "metadata": {},
   "outputs": [],
   "source": [
    "\n",
    "def dfs(root):\n",
    "    if not root:\n",
    "        return 0\n",
    "    else:\n",
    "        print(root.val)\n",
    "        dfs(root.left)\n",
    "        dfs(root.right)"
   ]
  },
  {
   "cell_type": "code",
   "execution_count": 207,
   "metadata": {},
   "outputs": [],
   "source": [
    "def dfs(root):\n",
    "        root_list = []\n",
    "        while root:\n",
    "            root_list.append(root.left)\n",
    "            root_list.append(curr.left)\n",
    "            root_list.append(curr.right)\n",
    "        return root_list"
   ]
  },
  {
   "cell_type": "code",
   "execution_count": 209,
   "metadata": {},
   "outputs": [],
   "source": [
    "test = dfs(res)"
   ]
  },
  {
   "cell_type": "code",
   "execution_count": 178,
   "metadata": {},
   "outputs": [
    {
     "data": {
      "text/plain": [
       "<__main__.TreeNode at 0x7fd3f275a3c8>"
      ]
     },
     "execution_count": 178,
     "metadata": {},
     "output_type": "execute_result"
    }
   ],
   "source": [
    "res"
   ]
  },
  {
   "cell_type": "code",
   "execution_count": null,
   "metadata": {},
   "outputs": [],
   "source": []
  }
 ],
 "metadata": {
  "interpreter": {
   "hash": "762306bead03dc84e16aee56f31f40b1a0c18d71c74386c9334f6620b6a3216a"
  },
  "kernelspec": {
   "display_name": "Python 3.7.1 ('base')",
   "language": "python",
   "name": "python3"
  },
  "language_info": {
   "codemirror_mode": {
    "name": "ipython",
    "version": 3
   },
   "file_extension": ".py",
   "mimetype": "text/x-python",
   "name": "python",
   "nbconvert_exporter": "python",
   "pygments_lexer": "ipython3",
   "version": "3.7.1"
  },
  "orig_nbformat": 4
 },
 "nbformat": 4,
 "nbformat_minor": 2
}
