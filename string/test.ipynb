{
 "cells": [
  {
   "cell_type": "markdown",
   "metadata": {},
   "source": [
    "# isPalindrome"
   ]
  },
  {
   "cell_type": "code",
   "execution_count": 61,
   "metadata": {},
   "outputs": [],
   "source": [
    "def isPalindrome(s: str):\n",
    "    def is_digit_or_alpha(s):\n",
    "        if s.isalpha():\n",
    "            return True\n",
    "        if s.isdigit():\n",
    "            return True\n",
    "        return False\n",
    "    \n",
    "\n",
    "    n = len(s)\n",
    "    i = 0\n",
    "    j = n - 1\n",
    "    s = s.lower()\n",
    "    while i < j:\n",
    "        front = s[i]\n",
    "        back = s[j]\n",
    "        if is_digit_or_alpha(front) and is_digit_or_alpha(back):\n",
    "            if front == back:\n",
    "                i = i+1\n",
    "                j = j-1\n",
    "            else:\n",
    "                return False\n",
    "        if not is_digit_or_alpha(front):\n",
    "            i = i + 1\n",
    "        if not is_digit_or_alpha(back):\n",
    "            j = j - 1\n",
    "    return True"
   ]
  },
  {
   "cell_type": "code",
   "execution_count": 87,
   "metadata": {},
   "outputs": [],
   "source": [
    "def isPalindrome(s: str):\n",
    "    def is_digit_or_alpha(s):\n",
    "        if s.isalpha():\n",
    "            return True\n",
    "        if s.isdigit():\n",
    "            return True\n",
    "        return False\n",
    "\n",
    "    n = len(s)\n",
    "    if n%2==1:\n",
    "        m = int(n/2) +1\n",
    "    else:\n",
    "        m = int(n/2)\n",
    "    print(m)\n",
    "    if is_digit_or_alpha(s):\n",
    "       if s[:m] == s[m:-1:-1]:\n",
    "           return True\n",
    "    return s[:m], s[m:]"
   ]
  },
  {
   "cell_type": "code",
   "execution_count": 90,
   "metadata": {},
   "outputs": [],
   "source": [
    "\n",
    "s = \"A man, a plan, a canal: Panama\"\n",
    "s = \"0P\"\n",
    "s = \"race a car\"\n",
    "s = \" \""
   ]
  },
  {
   "cell_type": "code",
   "execution_count": 91,
   "metadata": {},
   "outputs": [
    {
     "name": "stdout",
     "output_type": "stream",
     "text": [
      "1\n"
     ]
    },
    {
     "data": {
      "text/plain": [
       "(' ', '')"
      ]
     },
     "execution_count": 91,
     "metadata": {},
     "output_type": "execute_result"
    }
   ],
   "source": [
    "isPalindrome(s)"
   ]
  },
  {
   "cell_type": "code",
   "execution_count": 92,
   "metadata": {},
   "outputs": [
    {
     "data": {
      "text/plain": [
       "True"
      ]
     },
     "execution_count": 92,
     "metadata": {},
     "output_type": "execute_result"
    }
   ],
   "source": [
    "s = \"0\"\n",
    "s.isdigit()"
   ]
  },
  {
   "cell_type": "code",
   "execution_count": 85,
   "metadata": {},
   "outputs": [
    {
     "data": {
      "text/plain": [
       "False"
      ]
     },
     "execution_count": 85,
     "metadata": {},
     "output_type": "execute_result"
    }
   ],
   "source": [
    "s.isalpha()"
   ]
  },
  {
   "cell_type": "markdown",
   "metadata": {},
   "source": [
    "# reverseWords"
   ]
  },
  {
   "cell_type": "code",
   "execution_count": 142,
   "metadata": {},
   "outputs": [],
   "source": [
    "def reverseWords(s: str):\n",
    "    s_list = s.strip().split(\" \")\n",
    "    n = len(s_list)\n",
    "    i = n - 1\n",
    "    s_new = \"\"\n",
    "    while i>=0:\n",
    "        char = s_list[i]\n",
    "        if len(char)>0:\n",
    "            if len(s_new)==0: \n",
    "                s_new = s_new+char\n",
    "            elif s_new[-1]== \" \":\n",
    "                s_new = s_new+char\n",
    "            else:\n",
    "                s_new = s_new+\" \"+char\n",
    "        i= i-1\n",
    "    return s_new\n",
    "\n"
   ]
  },
  {
   "cell_type": "code",
   "execution_count": null,
   "metadata": {},
   "outputs": [],
   "source": [
    "class Solution:\n",
    "    def reverseWords(self, s: str) -> str:\n",
    "        s_list = s.strip().split(\" \")\n",
    "        n = len(s_list)\n",
    "        i = n - 1\n",
    "        s = \"\"\n",
    "        while i >= 0:\n",
    "            char = s_list[i]\n",
    "            if len(char) > 0:\n",
    "                if len(s) == 0:\n",
    "                    s = s+char\n",
    "                elif s[-1] == \" \":\n",
    "                    s = s+char\n",
    "                else:\n",
    "                    s = s+\" \"+char\n",
    "            i = i-1\n",
    "        return s\n"
   ]
  },
  {
   "cell_type": "code",
   "execution_count": 143,
   "metadata": {},
   "outputs": [],
   "source": [
    "s = \"the sky is blue\""
   ]
  },
  {
   "cell_type": "code",
   "execution_count": 144,
   "metadata": {},
   "outputs": [
    {
     "name": "stdout",
     "output_type": "stream",
     "text": [
      "blue\n",
      "is\n",
      "sky\n",
      "the\n"
     ]
    },
    {
     "data": {
      "text/plain": [
       "'blue is sky the'"
      ]
     },
     "execution_count": 144,
     "metadata": {},
     "output_type": "execute_result"
    }
   ],
   "source": [
    "reverseWords(s)"
   ]
  },
  {
   "cell_type": "code",
   "execution_count": 141,
   "metadata": {},
   "outputs": [
    {
     "data": {
      "text/plain": [
       "['the', 'sky', 'is', 'blue']"
      ]
     },
     "execution_count": 141,
     "metadata": {},
     "output_type": "execute_result"
    }
   ],
   "source": [
    "s.split(\" \")"
   ]
  },
  {
   "cell_type": "code",
   "execution_count": null,
   "metadata": {},
   "outputs": [],
   "source": []
  },
  {
   "cell_type": "markdown",
   "metadata": {},
   "source": [
    "# isPalindrome II"
   ]
  },
  {
   "cell_type": "code",
   "execution_count": 196,
   "metadata": {},
   "outputs": [],
   "source": [
    "\n",
    "\n",
    "def validPalindrome(s: str):\n",
    "    def isPalindrome(s: str):\n",
    "        n = len(s)\n",
    "        i = 0\n",
    "        j = n - 1\n",
    "        while i < j:\n",
    "            front = s[i]\n",
    "            back = s[j]\n",
    "            if front == back:\n",
    "                i = i+1\n",
    "                j = j-1\n",
    "            else:\n",
    "                return False\n",
    "        return True\n",
    "    n = len(s)\n",
    "    i = 0\n",
    "    j = n - 1\n",
    "    while i < j:\n",
    "        front = s[i]\n",
    "        back = s[j]\n",
    "        if front == back:\n",
    "            i = i+1\n",
    "            j = j-1\n",
    "        else:\n",
    "            if back == s[i+1]:\n",
    "               if isPalindrome(s[i+1:j+1]):\n",
    "                    return True\n",
    "    \n",
    "            if front == s[j-1]:\n",
    "                if isPalindrome(s[i:j]):\n",
    "                    return True\n",
    "            return False\n",
    "            \n",
    "    return True"
   ]
  },
  {
   "cell_type": "code",
   "execution_count": 197,
   "metadata": {},
   "outputs": [],
   "source": [
    "s = \"aba\"\n",
    "s =  \"abcccccbda\"\n",
    "s = \"abca\"\n",
    "s = \"ececabbacec\"\n",
    "s = \"aguokepatgbnvfqmgmlcupuufxoohdfpgjdmysgvhmvffcnqxjjxqncffvmhvgsymdjgpfdhooxfuupuculmgmqfvnbgtapekouga\""
   ]
  },
  {
   "cell_type": "code",
   "execution_count": 198,
   "metadata": {},
   "outputs": [
    {
     "name": "stdout",
     "output_type": "stream",
     "text": [
      "1\n"
     ]
    },
    {
     "data": {
      "text/plain": [
       "False"
      ]
     },
     "execution_count": 198,
     "metadata": {},
     "output_type": "execute_result"
    }
   ],
   "source": [
    "validPalindrome(s)"
   ]
  },
  {
   "cell_type": "code",
   "execution_count": 488,
   "metadata": {},
   "outputs": [
    {
     "data": {
      "text/plain": [
       "True"
      ]
     },
     "execution_count": 488,
     "metadata": {},
     "output_type": "execute_result"
    }
   ],
   "source": [
    "\"1\".isdigit()"
   ]
  },
  {
   "cell_type": "code",
   "execution_count": null,
   "metadata": {},
   "outputs": [],
   "source": [
    "s = \"ABCDEFGHIJKLMNOPQRSTUVWXYZ\"\n",
    "        div = 26\n",
    "        if columnNumber%div == 0:\n",
    "            column_idx = 25\n",
    "        else:\n",
    "            column_idx = columnNumber%div-1\n",
    "        column_name = s[column_idx]\n",
    "        val = columnNumber\n",
    "        minus_val = 0\n",
    "        while val/div>26:\n",
    "            minus_val =  column_idx +1\n",
    "            val = int(val - minus_val*div/26)\n",
    "            div = div *26\n",
    "            if val%div==0:\n",
    "                column_idx = 25\n",
    "            else:\n",
    "                column_idx  = int((val%div)/(div/26))-1\n",
    "            column_name  = s[column_idx ]+column_name \n",
    "\n",
    "        minus_val = column_idx + 1\n",
    "        val = int(val - minus_val*div/26)\n",
    "        column_idx  = int(val/div)-1\n",
    "        if column_idx>=0:\n",
    "            column_name  = s[column_idx ]+column_name \n",
    "        return column_name"
   ]
  },
  {
   "cell_type": "code",
   "execution_count": 485,
   "metadata": {},
   "outputs": [],
   "source": [
    "\n",
    "def convertToTitle(columnNumber: int):\n",
    "\n",
    "    s = \"ABCDEFGHIJKLMNOPQRSTUVWXYZ\"\n",
    "        div = 26\n",
    "        if columnNumber%div == 0:\n",
    "            column_idx = 25\n",
    "        else:\n",
    "            column_idx = columnNumber%div-1\n",
    "        column_name = s[column_idx]\n",
    "        val = columnNumber\n",
    "        minus_val = 0\n",
    "        while val/div>26:\n",
    "            minus_val =  column_idx +1\n",
    "            val = int(val - minus_val*div/26)\n",
    "            div = div *26\n",
    "            if val%div==0:\n",
    "                column_idx = 25\n",
    "            else:\n",
    "                column_idx  = int((val%div)/(div/26))-1\n",
    "            column_name  = s[column_idx ]+column_name \n",
    "\n",
    "        minus_val = column_idx + 1\n",
    "        val = int(val - minus_val*div/26)\n",
    "        column_idx  = int(val/div)-1\n",
    "        if column_idx>=0:\n",
    "            column_name  = s[column_idx ]+column_name \n",
    "        return column_name\n"
   ]
  },
  {
   "cell_type": "code",
   "execution_count": 486,
   "metadata": {},
   "outputs": [
    {
     "name": "stdout",
     "output_type": "stream",
     "text": [
      "7\n",
      "H\n",
      "********\n",
      "div:26\n",
      "minus_val:8\n",
      "val:1040\n",
      "676\n",
      "364\n",
      "column_idx:14\n",
      "column_name:OH\n",
      "676\n",
      "1040\n",
      "650\n",
      "OH\n"
     ]
    }
   ],
   "source": [
    "convertToTitle(1048)"
   ]
  },
  {
   "cell_type": "code",
   "execution_count": null,
   "metadata": {},
   "outputs": [],
   "source": [
    "rou"
   ]
  },
  {
   "cell_type": "code",
   "execution_count": 475,
   "metadata": {},
   "outputs": [
    {
     "data": {
      "text/plain": [
       "14.0"
      ]
     },
     "execution_count": 475,
     "metadata": {},
     "output_type": "execute_result"
    }
   ],
   "source": [
    "(1048 - 8-26*26)/26"
   ]
  },
  {
   "cell_type": "code",
   "execution_count": 476,
   "metadata": {},
   "outputs": [
    {
     "data": {
      "text/plain": [
       "364"
      ]
     },
     "execution_count": 476,
     "metadata": {},
     "output_type": "execute_result"
    }
   ],
   "source": [
    "1048 - 8-26*26"
   ]
  },
  {
   "cell_type": "code",
   "execution_count": 459,
   "metadata": {},
   "outputs": [
    {
     "data": {
      "text/plain": [
       "364"
      ]
     },
     "execution_count": 459,
     "metadata": {},
     "output_type": "execute_result"
    }
   ],
   "source": [
    "1040%676"
   ]
  },
  {
   "cell_type": "code",
   "execution_count": null,
   "metadata": {},
   "outputs": [],
   "source": [
    "26*26*26+26*26"
   ]
  },
  {
   "cell_type": "code",
   "execution_count": 358,
   "metadata": {},
   "outputs": [
    {
     "data": {
      "text/plain": [
       "26.96153846153846"
      ]
     },
     "execution_count": 358,
     "metadata": {},
     "output_type": "execute_result"
    }
   ],
   "source": [
    "701/26"
   ]
  },
  {
   "cell_type": "code",
   "execution_count": 343,
   "metadata": {},
   "outputs": [],
   "source": [
    "def convertToTitle(columnNumber: int):\n",
    "    s = \"ABCDEFGHIJKLIMOPQRSTUVWXYZ\"\n",
    "    div = 26\n",
    "    column_idx = columnNumber%div-1\n",
    "    column_name = s[column_idx]\n",
    "    val = columnNumber\n",
    "    minus_val = 0\n",
    "\n",
    "    while val/div>26:\n",
    "        minus_val =  column_idx +1\n",
    "        val = int(val - minus_val*div/26)\n",
    "        div = div * 26\n",
    "        column_idx  = int((val%div)/(div/26))-1\n",
    "        column_name  = s[column_idx ]+column_name \n",
    "\n",
    "    print(val)\n",
    "    print(div)\n",
    "    \n",
    "    column_idx  = int(val/div)-1\n",
    "    column_name  = s[column_idx ]+column_name \n",
    "    return column_name\n"
   ]
  },
  {
   "cell_type": "code",
   "execution_count": 320,
   "metadata": {},
   "outputs": [
    {
     "data": {
      "text/plain": [
       "676"
      ]
     },
     "execution_count": 320,
     "metadata": {},
     "output_type": "execute_result"
    }
   ],
   "source": [
    "26\n",
    "26*26\n"
   ]
  },
  {
   "cell_type": "code",
   "execution_count": 231,
   "metadata": {},
   "outputs": [
    {
     "data": {
      "text/plain": [
       "23"
      ]
     },
     "execution_count": 231,
     "metadata": {},
     "output_type": "execute_result"
    }
   ],
   "source": [
    "2147483647%26"
   ]
  },
  {
   "cell_type": "code",
   "execution_count": 226,
   "metadata": {},
   "outputs": [
    {
     "data": {
      "text/plain": [
       "'W'"
      ]
     },
     "execution_count": 226,
     "metadata": {},
     "output_type": "execute_result"
    }
   ],
   "source": [
    "s[2147483647%26-1]"
   ]
  },
  {
   "cell_type": "code",
   "execution_count": 245,
   "metadata": {},
   "outputs": [
    {
     "data": {
      "text/plain": [
       "'X'"
      ]
     },
     "execution_count": 245,
     "metadata": {},
     "output_type": "execute_result"
    }
   ],
   "source": [
    "s[int((2147483647-23)%(26*26)/26)-1]"
   ]
  },
  {
   "cell_type": "code",
   "execution_count": null,
   "metadata": {},
   "outputs": [],
   "source": [
    "s[int((2147483647-23)%(26*26)/26)-1]"
   ]
  },
  {
   "cell_type": "code",
   "execution_count": 244,
   "metadata": {},
   "outputs": [
    {
     "ename": "IndexError",
     "evalue": "string index out of range",
     "output_type": "error",
     "traceback": [
      "\u001b[0;31m---------------------------------------------------------------------------\u001b[0m",
      "\u001b[0;31mIndexError\u001b[0m                                Traceback (most recent call last)",
      "\u001b[0;32m<ipython-input-244-668a6be812bd>\u001b[0m in \u001b[0;36m<module>\u001b[0;34m\u001b[0m\n\u001b[0;32m----> 1\u001b[0;31m \u001b[0ms\u001b[0m\u001b[0;34m[\u001b[0m\u001b[0;34m(\u001b[0m\u001b[0;36m2147483647\u001b[0m\u001b[0;34m-\u001b[0m\u001b[0;36m23\u001b[0m\u001b[0;34m)\u001b[0m\u001b[0;34m%\u001b[0m\u001b[0;34m(\u001b[0m\u001b[0;36m26\u001b[0m\u001b[0;34m*\u001b[0m\u001b[0;36m26\u001b[0m\u001b[0;34m)\u001b[0m\u001b[0;34m-\u001b[0m\u001b[0;36m1\u001b[0m\u001b[0;34m]\u001b[0m\u001b[0;34m\u001b[0m\u001b[0;34m\u001b[0m\u001b[0m\n\u001b[0m",
      "\u001b[0;31mIndexError\u001b[0m: string index out of range"
     ]
    }
   ],
   "source": [
    "s[(2147483647-23)%(26*26)]"
   ]
  },
  {
   "cell_type": "code",
   "execution_count": 221,
   "metadata": {},
   "outputs": [
    {
     "name": "stdout",
     "output_type": "stream",
     "text": [
      "82595523 22\n"
     ]
    },
    {
     "ename": "IndexError",
     "evalue": "string index out of range",
     "output_type": "error",
     "traceback": [
      "\u001b[0;31m---------------------------------------------------------------------------\u001b[0m",
      "\u001b[0;31mIndexError\u001b[0m                                Traceback (most recent call last)",
      "\u001b[0;32m<ipython-input-221-b5863a2c6af7>\u001b[0m in \u001b[0;36m<module>\u001b[0;34m\u001b[0m\n\u001b[0;32m----> 1\u001b[0;31m \u001b[0mconvertToTitle\u001b[0m\u001b[0;34m(\u001b[0m\u001b[0;36m2147483647\u001b[0m\u001b[0;34m)\u001b[0m\u001b[0;34m\u001b[0m\u001b[0;34m\u001b[0m\u001b[0m\n\u001b[0m",
      "\u001b[0;32m<ipython-input-220-89dd5ea3e185>\u001b[0m in \u001b[0;36mconvertToTitle\u001b[0;34m(columnNumber)\u001b[0m\n\u001b[1;32m      5\u001b[0m     \u001b[0mprint\u001b[0m\u001b[0;34m(\u001b[0m\u001b[0mfirst_idx\u001b[0m\u001b[0;34m,\u001b[0m\u001b[0msecond_inx\u001b[0m\u001b[0;34m)\u001b[0m\u001b[0;34m\u001b[0m\u001b[0;34m\u001b[0m\u001b[0m\n\u001b[1;32m      6\u001b[0m     \u001b[0;32mif\u001b[0m \u001b[0mfirst_idx\u001b[0m\u001b[0;34m>=\u001b[0m\u001b[0;36m0\u001b[0m\u001b[0;34m:\u001b[0m\u001b[0;34m\u001b[0m\u001b[0;34m\u001b[0m\u001b[0m\n\u001b[0;32m----> 7\u001b[0;31m         \u001b[0;32mreturn\u001b[0m \u001b[0ms\u001b[0m\u001b[0;34m[\u001b[0m\u001b[0mfirst_idx\u001b[0m\u001b[0;34m]\u001b[0m\u001b[0;34m+\u001b[0m\u001b[0ms\u001b[0m\u001b[0;34m[\u001b[0m\u001b[0msecond_inx\u001b[0m\u001b[0;34m]\u001b[0m\u001b[0;34m\u001b[0m\u001b[0;34m\u001b[0m\u001b[0m\n\u001b[0m\u001b[1;32m      8\u001b[0m     \u001b[0;32melse\u001b[0m\u001b[0;34m:\u001b[0m\u001b[0;34m\u001b[0m\u001b[0;34m\u001b[0m\u001b[0m\n\u001b[1;32m      9\u001b[0m         \u001b[0;32mreturn\u001b[0m \u001b[0ms\u001b[0m\u001b[0;34m[\u001b[0m\u001b[0msecond_inx\u001b[0m\u001b[0;34m]\u001b[0m\u001b[0;34m\u001b[0m\u001b[0;34m\u001b[0m\u001b[0m\n",
      "\u001b[0;31mIndexError\u001b[0m: string index out of range"
     ]
    }
   ],
   "source": []
  },
  {
   "cell_type": "code",
   "execution_count": 523,
   "metadata": {},
   "outputs": [],
   "source": [
    "def decodeString(s: str):\n",
    "    n = len(s)\n",
    "    curr_num = 0\n",
    "    sub_str = \"\"\n",
    "    curr_char = \"\"\n",
    "    new_str = \"\"\n",
    "    status = 0\n",
    "    for i in range(n):\n",
    "        char = s[i]\n",
    "        print()\n",
    "        print(\"*******\")\n",
    "        print(f\"char:{char}\")\n",
    "        print(f\"new_str:{new_str}\")\n",
    "        print(f\"status:{status}\" )\n",
    "        print(f\"status:{status}\" )\n",
    "        if status ==0:\n",
    "            if char.isalpha():\n",
    "                new_str+=char\n",
    "\n",
    "            if char.isdigit():\n",
    "                curr_char+=char\n",
    "            if char==\"[\":\n",
    "                curr_num = int(curr_char)\n",
    "                curr_char = \"\"\n",
    "                status = 1\n",
    "\n",
    "        elif status >0:\n",
    "            if char==\"[\":\n",
    "                status+=1\n",
    "            if char ==\"]\":\n",
    "                status-=1\n",
    "            if status>0:\n",
    "                sub_str +=char \n",
    "            if status == 0:\n",
    "                new_str+=curr_num*sub_str\n",
    "                sub_str = \"\"\n",
    "    if \"[\" in new_str:\n",
    "        new_str = decodeString(new_str)\n",
    "    return new_str"
   ]
  },
  {
   "cell_type": "code",
   "execution_count": 524,
   "metadata": {},
   "outputs": [
    {
     "name": "stdout",
     "output_type": "stream",
     "text": [
      "\n",
      "*******\n",
      "char:3\n",
      "new_str:\n",
      "status:0\n",
      "status:0\n",
      "\n",
      "*******\n",
      "char:[\n",
      "new_str:\n",
      "status:0\n",
      "status:0\n",
      "\n",
      "*******\n",
      "char:a\n",
      "new_str:\n",
      "status:1\n",
      "status:1\n",
      "\n",
      "*******\n",
      "char:2\n",
      "new_str:\n",
      "status:1\n",
      "status:1\n",
      "\n",
      "*******\n",
      "char:[\n",
      "new_str:\n",
      "status:1\n",
      "status:1\n",
      "\n",
      "*******\n",
      "char:c\n",
      "new_str:\n",
      "status:2\n",
      "status:2\n",
      "\n",
      "*******\n",
      "char:]\n",
      "new_str:\n",
      "status:2\n",
      "status:2\n",
      "\n",
      "*******\n",
      "char:]\n",
      "new_str:\n",
      "status:1\n",
      "status:1\n",
      "\n",
      "*******\n",
      "char:a\n",
      "new_str:\n",
      "status:0\n",
      "status:0\n",
      "\n",
      "*******\n",
      "char:2\n",
      "new_str:a\n",
      "status:0\n",
      "status:0\n",
      "\n",
      "*******\n",
      "char:[\n",
      "new_str:a\n",
      "status:0\n",
      "status:0\n",
      "\n",
      "*******\n",
      "char:c\n",
      "new_str:a\n",
      "status:1\n",
      "status:1\n",
      "\n",
      "*******\n",
      "char:]\n",
      "new_str:a\n",
      "status:1\n",
      "status:1\n",
      "\n",
      "*******\n",
      "char:a\n",
      "new_str:acc\n",
      "status:0\n",
      "status:0\n",
      "\n",
      "*******\n",
      "char:2\n",
      "new_str:acca\n",
      "status:0\n",
      "status:0\n",
      "\n",
      "*******\n",
      "char:[\n",
      "new_str:acca\n",
      "status:0\n",
      "status:0\n",
      "\n",
      "*******\n",
      "char:c\n",
      "new_str:acca\n",
      "status:1\n",
      "status:1\n",
      "\n",
      "*******\n",
      "char:]\n",
      "new_str:acca\n",
      "status:1\n",
      "status:1\n",
      "\n",
      "*******\n",
      "char:a\n",
      "new_str:accacc\n",
      "status:0\n",
      "status:0\n",
      "\n",
      "*******\n",
      "char:2\n",
      "new_str:accacca\n",
      "status:0\n",
      "status:0\n",
      "\n",
      "*******\n",
      "char:[\n",
      "new_str:accacca\n",
      "status:0\n",
      "status:0\n",
      "\n",
      "*******\n",
      "char:c\n",
      "new_str:accacca\n",
      "status:1\n",
      "status:1\n",
      "\n",
      "*******\n",
      "char:]\n",
      "new_str:accacca\n",
      "status:1\n",
      "status:1\n"
     ]
    },
    {
     "data": {
      "text/plain": [
       "'accaccacc'"
      ]
     },
     "execution_count": 524,
     "metadata": {},
     "output_type": "execute_result"
    }
   ],
   "source": [
    "s = \"3[a2[c]]\"\n",
    "decodeString(s)"
   ]
  },
  {
   "cell_type": "code",
   "execution_count": null,
   "metadata": {},
   "outputs": [],
   "source": []
  }
 ],
 "metadata": {
  "interpreter": {
   "hash": "762306bead03dc84e16aee56f31f40b1a0c18d71c74386c9334f6620b6a3216a"
  },
  "kernelspec": {
   "display_name": "Python 3.7.1 ('base')",
   "language": "python",
   "name": "python3"
  },
  "language_info": {
   "codemirror_mode": {
    "name": "ipython",
    "version": 3
   },
   "file_extension": ".py",
   "mimetype": "text/x-python",
   "name": "python",
   "nbconvert_exporter": "python",
   "pygments_lexer": "ipython3",
   "version": "3.7.1"
  },
  "orig_nbformat": 4
 },
 "nbformat": 4,
 "nbformat_minor": 2
}
